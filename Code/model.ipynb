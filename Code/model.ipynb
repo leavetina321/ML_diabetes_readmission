{
 "cells": [
  {
   "cell_type": "code",
   "execution_count": 37,
   "metadata": {},
   "outputs": [
    {
     "data": {
      "text/plain": [
       "(101766, 50)"
      ]
     },
     "execution_count": 37,
     "metadata": {},
     "output_type": "execute_result"
    }
   ],
   "source": [
    "import pandas as pd\n",
    "import numpy as np\n",
    "from matplotlib import pyplot as plt\n",
    "import seaborn as sns\n",
    "%matplotlib inline\n",
    "diab_df=pd.read_csv('diabetic_data.csv')\n",
    "diab_df.shape\n"
   ]
  },
  {
   "cell_type": "code",
   "execution_count": 38,
   "metadata": {},
   "outputs": [],
   "source": [
    "diab_df.replace('?',np.nan,inplace=True)\n",
    "diab_df = diab_df[diab_df.isnull().sum(axis=1) < 2]\n",
    "diab_df.shape\n",
    "diab_df=diab_df[1:5000]\n",
    "diab_df.replace(np.nan,'Missing',inplace=True)"
   ]
  },
  {
   "cell_type": "code",
   "execution_count": 39,
   "metadata": {},
   "outputs": [],
   "source": [
    "import re \n",
    "from sklearn.model_selection import StratifiedKFold\n",
    "from sklearn.linear_model import LogisticRegression\n",
    "from sklearn.metrics import accuracy_score\n",
    "from sklearn.model_selection import train_test_split\n",
    "from sklearn.model_selection import GridSearchCV\n",
    "\n",
    "from sklearn.pipeline import make_pipeline\n",
    "from sklearn.metrics import make_scorer\n",
    "from sklearn.model_selection import train_test_split\n",
    "from sklearn.model_selection import KFold\n",
    "from sklearn.preprocessing import StandardScaler\n",
    "from sklearn.linear_model import Ridge\n",
    "from sklearn.metrics import mean_squared_error\n",
    "from sklearn.metrics import roc_curve, auc\n",
    "from sklearn import ensemble\n",
    "import pandas as pd\n",
    "from matplotlib import pyplot as plt\n",
    "%matplotlib inline\n",
    "from sklearn.preprocessing import LabelEncoder\n",
    "from sklearn.preprocessing import OrdinalEncoder\n",
    "from sklearn.preprocessing import OneHotEncoder\n",
    "from sklearn.preprocessing import MinMaxScaler\n",
    "from sklearn.preprocessing import StandardScaler\n",
    "from sklearn.metrics import f1_score\n",
    "from sklearn.metrics import confusion_matrix,roc_curve, roc_auc_score,precision_recall_fscore_support,classification_report\n",
    "import xgboost as xgb\n",
    "from sklearn.model_selection import cross_val_score\n",
    "le = LabelEncoder()\n",
    "ohe = OneHotEncoder(sparse=False, handle_unknown = 'ignore')\n",
    "mmscaler = MinMaxScaler()\n",
    "sscaler = StandardScaler()\n",
    "import warnings\n",
    "warnings.filterwarnings(\"ignore\")"
   ]
  },
  {
   "cell_type": "code",
   "execution_count": 40,
   "metadata": {},
   "outputs": [],
   "source": [
    "def transform_diagnosis(df,target, column):\n",
    "\n",
    "    diab_df[column] = diab_df[target]\n",
    "    diab_df.loc[diab_df[target].str.contains('V',na=False), [column]] = 1000\n",
    "    diab_df.loc[diab_df[target].str.contains('E',na=False), [column]] = 1000\n",
    "    diab_df.loc[diab_df[target].str.contains('250',na=False), [column]] = 2500\n",
    "    diab_df[column].replace('Missing',-1,inplace=True)\n",
    "    diab_df[column] = diab_df[column].astype(float)\n",
    "    diab_df[column][((diab_df[column]>=390) & (diab_df[column]<460)) | (diab_df[column]==785)] = 1001\n",
    "    diab_df[column][((diab_df[column]>=460) & (diab_df[column]<520)) | (diab_df[column]==786)] = 1002\n",
    "    diab_df[column][((diab_df[column]>=520) & (diab_df[column]<580)) | (diab_df[column]==787)] = 1003\n",
    "    diab_df[column][((diab_df[column]>=800) & (diab_df[column]<1000))] = 1005\n",
    "    diab_df[column][((diab_df[column]>=710) & (diab_df[column]<740))] = 1006\n",
    "    diab_df[column][((diab_df[column]>=580) & (diab_df[column]<630)) | (diab_df[column]==788)] = 1007\n",
    "    diab_df[column][((diab_df[column]>=140) & (diab_df[column]<240))] = 1008\n",
    "    diab_df[column][((diab_df[column]>=0) & (diab_df[column]<1000))] = 1000\n",
    "    diab_df[column].replace(1001,'Circulatory',inplace=True)\n",
    "    diab_df[column].replace(1002,'Respiratory',inplace=True)\n",
    "    diab_df[column].replace(1003,'Digestive',inplace=True)\n",
    "    diab_df[column].replace(2500,'Digestive',inplace=True)\n",
    "    diab_df[column].replace(1005,'Injury',inplace=True)\n",
    "    diab_df[column].replace(1006,'Musculoskeletal',inplace=True)\n",
    "    diab_df[column].replace(1007,'Genitourinary',inplace=True)\n",
    "    diab_df[column].replace(1008,'Neoplasms',inplace=True)\n",
    "    diab_df[column].replace(1000,'Other',inplace=True)\n",
    "    diab_df[column].replace(-1,'Missing',inplace=True)"
   ]
  },
  {
   "cell_type": "code",
   "execution_count": 41,
   "metadata": {},
   "outputs": [],
   "source": [
    "def trans_variables():\n",
    "    diab_df.drop(['weight','payer_code'],1,inplace=True)\n",
    "    diab_df.drop(['examide','citoglipton'],1,inplace=True)  \n",
    "    diab_df.diag_1.replace('?','Missing',inplace=True)\n",
    "    diab_df.diag_2.replace('?','Missing',inplace=True)\n",
    "    diab_df.diag_3.replace('?','Missing',inplace=True)\n",
    "    transform_diagnosis(diab_df, 'diag_1','diag_1_group')\n",
    "    transform_diagnosis(diab_df, 'diag_2','diag_2_group')\n",
    "    transform_diagnosis(diab_df, 'diag_3','diag_3_group')\n",
    "    diab_df.drop(['diag_1','diag_2','diag_3'],1,inplace=True)\n",
    "    diab_df['admission_type_id'] = diab_df['admission_type_id'].astype(str)\n",
    "    diab_df['discharge_disposition_id'] = diab_df['discharge_disposition_id'].astype(str)\n",
    "    diab_df['admission_source_id'] = diab_df['admission_source_id'].astype(str)\n",
    "    diab_df['readmitted'] = diab_df['readmitted'].replace('>30', 0)\n",
    "    diab_df['readmitted'] = diab_df['readmitted'].replace('<30', 1)\n",
    "    diab_df['readmitted'] = diab_df['readmitted'].replace('NO', 0)\n",
    "    diab_df.change.replace('No',0,inplace=True)\n",
    "    diab_df.change.replace('Ch',1,inplace=True)\n",
    "    diab_df.diabetesMed.replace('No',0,inplace=True)\n",
    "    diab_df.diabetesMed.replace('Yes',1,inplace=True)\n",
    "    diab_df.replace('?','Missing',inplace=True)\n",
    "    temp_df=diab_df.groupby('patient_nbr')['encounter_id'].min().reset_index()\n",
    "    temp_df = pd.merge(temp_df,diab_df.drop('patient_nbr',1),'left',left_on='encounter_id',right_on='encounter_id')\n",
    "    temp_df = temp_df[~temp_df['discharge_disposition_id'].isin([11,13,14,19,20,21])]\n",
    "    temp_df.drop('patient_nbr',1,inplace=True)\n",
    "    temp_df.drop('encounter_id',1,inplace=True)\n",
    "    return temp_df"
   ]
  },
  {
   "cell_type": "code",
   "execution_count": 42,
   "metadata": {},
   "outputs": [],
   "source": [
    "feature_names=['race', 'gender', 'age',\n",
    "       'admission_type_id', 'discharge_disposition_id', 'admission_source_id',\n",
    "       'time_in_hospital', 'medical_specialty', 'num_lab_procedures',\n",
    "       'num_procedures', 'num_medications', 'number_outpatient',\n",
    "       'number_emergency', 'number_inpatient', 'number_diagnoses',\n",
    "       'max_glu_serum', 'A1Cresult', 'metformin', 'repaglinide', 'nateglinide',\n",
    "       'chlorpropamide', 'glimepiride', 'acetohexamide', 'glipizide',\n",
    "       'glyburide', 'tolbutamide', 'pioglitazone', 'rosiglitazone', 'acarbose',\n",
    "       'miglitol', 'troglitazone', 'tolazamide', 'insulin',\n",
    "       'glyburide-metformin', 'glipizide-metformin',\n",
    "       'glimepiride-pioglitazone', 'metformin-rosiglitazone',\n",
    "       'metformin-pioglitazone', 'change', 'diabetesMed',\n",
    "       'diag_1_group', 'diag_2_group', 'diag_3_group']\n",
    "temp_df=trans_variables()      \n",
    "X = temp_df[feature_names]\n",
    "y = temp_df['readmitted']"
   ]
  },
  {
   "cell_type": "code",
   "execution_count": 46,
   "metadata": {},
   "outputs": [],
   "source": [
    "def ML_pipeline_kfold_l1(X,y,random_state,n_folds):\n",
    "    \n",
    "    ## Split your data in a stratified manner, 5 stratified folds.\n",
    "    X_other, X_test, y_other, y_test = train_test_split(X, y, test_size=0.2, random_state = random_state, stratify = y)\n",
    "    CV_scores = []\n",
    "    test_scores = []\n",
    "    kf = StratifiedKFold(n_splits=n_folds,shuffle=True,random_state=random_state)\n",
    "    \n",
    "    # You'll need to loop through the 5 options the CV fold can be selected\n",
    "    for train_index, CV_index in kf.split(X_other,y_other):\n",
    "        X_train, X_CV = X_other.iloc[train_index], X_other.iloc[CV_index]\n",
    "        y_train, y_CV = y_other.iloc[train_index], y_other.iloc[CV_index]\n",
    "        \n",
    "        target = ['readmitted']\n",
    "        num_ftrs =['time_in_hospital','num_lab_procedures','num_procedures','num_medications','number_outpatient','number_emergency','number_inpatient','number_diagnoses']\n",
    "        ohe_ftrs = ['race','gender','age','medical_specialty','max_glu_serum','A1Cresult','metformin', 'repaglinide', 'nateglinide',\n",
    "       'chlorpropamide', 'glimepiride', 'acetohexamide', 'glipizide',\n",
    "       'glyburide', 'tolbutamide', 'pioglitazone', 'rosiglitazone', 'acarbose',\n",
    "       'miglitol', 'troglitazone', 'tolazamide', 'insulin',\n",
    "       'glyburide-metformin', 'glipizide-metformin',\n",
    "       'glimepiride-pioglitazone', 'metformin-rosiglitazone',\n",
    "       'metformin-pioglitazone','diag_1_group','diag_2_group','diag_3_group']\n",
    "        bin_ord_ftrs = ['change', 'diabetesMed','admission_type_id','discharge_disposition_id', 'admission_source_id']\n",
    "        \n",
    "        ## Preprocess the data\n",
    "        ## We don't want to apply one hot to binary var\n",
    "        X_train_num = sscaler.fit_transform(X_train[num_ftrs])\n",
    "        X_c_num = sscaler.transform(X_CV[num_ftrs])\n",
    "        X_t_num = sscaler.transform(X_test[num_ftrs])\n",
    "        \n",
    "        X_train_cat = ohe.fit_transform(X_train[ohe_ftrs])\n",
    "        X_c_cat = ohe.transform(X_CV[ohe_ftrs])\n",
    "        X_t_cat = ohe.transform(X_test[ohe_ftrs])\n",
    "\n",
    "        X_train = np.concatenate((X_train_cat,X_train_num, np.array(X_train[bin_ord_ftrs])),axis=1)\n",
    "        X_c = np.concatenate((X_c_cat,X_c_num, np.array(X_CV[bin_ord_ftrs])),axis=1)\n",
    "        X_t = np.concatenate((X_t_cat,X_t_num, np.array(X_test[bin_ord_ftrs])),axis=1)\n",
    "        \n",
    "       \n",
    "        # tune lasso hyper-parameter, alpha\n",
    "        alpha = np.logspace(-5,5,num = 5)\n",
    "        train_score = []\n",
    "        CV_score = []\n",
    "        regs = []\n",
    "        f1_scores=[]\n",
    "        for a in alpha:\n",
    "            reg = LogisticRegression(penalty='l1',C = 1/a, multi_class = 'auto', \n",
    "                                     solver='saga', max_iter = 1e4)\n",
    "            reg.fit(X_train,y_train)\n",
    "            train_score.append(f1_score(y_train,reg.predict(X_train)))\n",
    "            CV_score.append(f1_score(y_CV,reg.predict(X_c)))\n",
    "            regs.append(reg)\n",
    "        # find the best alpha in this fold\n",
    "        best_alpha = alpha[np.argmax(CV_score)]\n",
    "        # grab the best model\n",
    "        reg = regs[np.argmax(CV_score)]\n",
    "        CV_scores.append(np.max(CV_score))\n",
    "        # calculate test score using thee best model\n",
    "        test_scores.append(accuracy_score(y_test,reg.predict(X_t)))\n",
    "        f1_scores.append(f1_score(y_test,reg.predict(X_t)))\n",
    "        fbeta_score=classification_report(y_test, reg.predict(X_t))\n",
    "    return reg,f1_scores,test_scores,best_alpha,fbeta_score"
   ]
  },
  {
   "cell_type": "code",
   "execution_count": 34,
   "metadata": {},
   "outputs": [
    {
     "ename": "KeyError",
     "evalue": "\"None of [Index(['race', 'gender', 'age', 'medical_specialty', 'max_glu_serum',\\n       'A1Cresult', 'metformin', 'pioglitazone', 'troglitazone', 'tolazamide',\\n       'insulin', 'metformin-pioglitazone', 'diag_1_group', 'diag_2_group',\\n       'diag_3_group'],\\n      dtype='object')] are in the [columns]\"",
     "output_type": "error",
     "traceback": [
      "\u001b[0;31m---------------------------------------------------------------------------\u001b[0m",
      "\u001b[0;31mKeyError\u001b[0m                                  Traceback (most recent call last)",
      "\u001b[0;32m<ipython-input-34-96a44afc232e>\u001b[0m in \u001b[0;36m<module>\u001b[0;34m\u001b[0m\n\u001b[1;32m      3\u001b[0m \u001b[0;34m\u001b[0m\u001b[0m\n\u001b[1;32m      4\u001b[0m \u001b[0;32mfor\u001b[0m \u001b[0mi\u001b[0m \u001b[0;32min\u001b[0m \u001b[0mrange\u001b[0m\u001b[0;34m(\u001b[0m\u001b[0;36m1\u001b[0m\u001b[0;34m,\u001b[0m\u001b[0;36m5\u001b[0m\u001b[0;34m)\u001b[0m\u001b[0;34m:\u001b[0m\u001b[0;34m\u001b[0m\u001b[0;34m\u001b[0m\u001b[0m\n\u001b[0;32m----> 5\u001b[0;31m     \u001b[0mgrid\u001b[0m\u001b[0;34m,\u001b[0m \u001b[0mf1_scores\u001b[0m\u001b[0;34m,\u001b[0m\u001b[0mtest_scores\u001b[0m\u001b[0;34m,\u001b[0m \u001b[0mbest_alpha\u001b[0m\u001b[0;34m,\u001b[0m\u001b[0mfbeta_score\u001b[0m\u001b[0;34m=\u001b[0m \u001b[0mML_pipeline_kfold_l1\u001b[0m\u001b[0;34m(\u001b[0m\u001b[0mX\u001b[0m\u001b[0;34m,\u001b[0m\u001b[0my\u001b[0m\u001b[0;34m,\u001b[0m\u001b[0;36m42\u001b[0m\u001b[0;34m*\u001b[0m\u001b[0mi\u001b[0m\u001b[0;34m,\u001b[0m\u001b[0;36m5\u001b[0m\u001b[0;34m)\u001b[0m\u001b[0;34m\u001b[0m\u001b[0;34m\u001b[0m\u001b[0m\n\u001b[0m\u001b[1;32m      6\u001b[0m     \u001b[0mtestscores\u001b[0m\u001b[0;34m.\u001b[0m\u001b[0mappend\u001b[0m\u001b[0;34m(\u001b[0m\u001b[0mtest_scores\u001b[0m\u001b[0;34m)\u001b[0m\u001b[0;34m\u001b[0m\u001b[0;34m\u001b[0m\u001b[0m\n\u001b[1;32m      7\u001b[0m     \u001b[0mfbetascores\u001b[0m\u001b[0;34m.\u001b[0m\u001b[0mappend\u001b[0m\u001b[0;34m(\u001b[0m\u001b[0mfbeta_score\u001b[0m\u001b[0;34m)\u001b[0m\u001b[0;34m\u001b[0m\u001b[0;34m\u001b[0m\u001b[0m\n",
      "\u001b[0;32m<ipython-input-33-1e323be46013>\u001b[0m in \u001b[0;36mML_pipeline_kfold_l1\u001b[0;34m(X, y, random_state, n_folds)\u001b[0m\n\u001b[1;32m     26\u001b[0m         \u001b[0mX_t_num\u001b[0m \u001b[0;34m=\u001b[0m \u001b[0msscaler\u001b[0m\u001b[0;34m.\u001b[0m\u001b[0mtransform\u001b[0m\u001b[0;34m(\u001b[0m\u001b[0mX_test\u001b[0m\u001b[0;34m[\u001b[0m\u001b[0mnum_ftrs\u001b[0m\u001b[0;34m]\u001b[0m\u001b[0;34m)\u001b[0m\u001b[0;34m\u001b[0m\u001b[0;34m\u001b[0m\u001b[0m\n\u001b[1;32m     27\u001b[0m \u001b[0;34m\u001b[0m\u001b[0m\n\u001b[0;32m---> 28\u001b[0;31m         \u001b[0mX_train_cat\u001b[0m \u001b[0;34m=\u001b[0m \u001b[0mohe\u001b[0m\u001b[0;34m.\u001b[0m\u001b[0mfit_transform\u001b[0m\u001b[0;34m(\u001b[0m\u001b[0mX_train\u001b[0m\u001b[0;34m[\u001b[0m\u001b[0mohe_ftrs\u001b[0m\u001b[0;34m]\u001b[0m\u001b[0;34m)\u001b[0m\u001b[0;34m\u001b[0m\u001b[0;34m\u001b[0m\u001b[0m\n\u001b[0m\u001b[1;32m     29\u001b[0m         \u001b[0mX_c_cat\u001b[0m \u001b[0;34m=\u001b[0m \u001b[0mohe\u001b[0m\u001b[0;34m.\u001b[0m\u001b[0mtransform\u001b[0m\u001b[0;34m(\u001b[0m\u001b[0mX_CV\u001b[0m\u001b[0;34m[\u001b[0m\u001b[0mohe_ftrs\u001b[0m\u001b[0;34m]\u001b[0m\u001b[0;34m)\u001b[0m\u001b[0;34m\u001b[0m\u001b[0;34m\u001b[0m\u001b[0m\n\u001b[1;32m     30\u001b[0m         \u001b[0mX_t_cat\u001b[0m \u001b[0;34m=\u001b[0m \u001b[0mohe\u001b[0m\u001b[0;34m.\u001b[0m\u001b[0mtransform\u001b[0m\u001b[0;34m(\u001b[0m\u001b[0mX_test\u001b[0m\u001b[0;34m[\u001b[0m\u001b[0mohe_ftrs\u001b[0m\u001b[0;34m]\u001b[0m\u001b[0;34m)\u001b[0m\u001b[0;34m\u001b[0m\u001b[0;34m\u001b[0m\u001b[0m\n",
      "\u001b[0;32m/opt/conda/lib/python3.7/site-packages/pandas/core/frame.py\u001b[0m in \u001b[0;36m__getitem__\u001b[0;34m(self, key)\u001b[0m\n\u001b[1;32m   2979\u001b[0m             \u001b[0;32mif\u001b[0m \u001b[0mis_iterator\u001b[0m\u001b[0;34m(\u001b[0m\u001b[0mkey\u001b[0m\u001b[0;34m)\u001b[0m\u001b[0;34m:\u001b[0m\u001b[0;34m\u001b[0m\u001b[0;34m\u001b[0m\u001b[0m\n\u001b[1;32m   2980\u001b[0m                 \u001b[0mkey\u001b[0m \u001b[0;34m=\u001b[0m \u001b[0mlist\u001b[0m\u001b[0;34m(\u001b[0m\u001b[0mkey\u001b[0m\u001b[0;34m)\u001b[0m\u001b[0;34m\u001b[0m\u001b[0;34m\u001b[0m\u001b[0m\n\u001b[0;32m-> 2981\u001b[0;31m             \u001b[0mindexer\u001b[0m \u001b[0;34m=\u001b[0m \u001b[0mself\u001b[0m\u001b[0;34m.\u001b[0m\u001b[0mloc\u001b[0m\u001b[0;34m.\u001b[0m\u001b[0m_convert_to_indexer\u001b[0m\u001b[0;34m(\u001b[0m\u001b[0mkey\u001b[0m\u001b[0;34m,\u001b[0m \u001b[0maxis\u001b[0m\u001b[0;34m=\u001b[0m\u001b[0;36m1\u001b[0m\u001b[0;34m,\u001b[0m \u001b[0mraise_missing\u001b[0m\u001b[0;34m=\u001b[0m\u001b[0;32mTrue\u001b[0m\u001b[0;34m)\u001b[0m\u001b[0;34m\u001b[0m\u001b[0;34m\u001b[0m\u001b[0m\n\u001b[0m\u001b[1;32m   2982\u001b[0m \u001b[0;34m\u001b[0m\u001b[0m\n\u001b[1;32m   2983\u001b[0m         \u001b[0;31m# take() does not accept boolean indexers\u001b[0m\u001b[0;34m\u001b[0m\u001b[0;34m\u001b[0m\u001b[0;34m\u001b[0m\u001b[0m\n",
      "\u001b[0;32m/opt/conda/lib/python3.7/site-packages/pandas/core/indexing.py\u001b[0m in \u001b[0;36m_convert_to_indexer\u001b[0;34m(self, obj, axis, is_setter, raise_missing)\u001b[0m\n\u001b[1;32m   1269\u001b[0m                 \u001b[0;31m# When setting, missing keys are not allowed, even with .loc:\u001b[0m\u001b[0;34m\u001b[0m\u001b[0;34m\u001b[0m\u001b[0;34m\u001b[0m\u001b[0m\n\u001b[1;32m   1270\u001b[0m                 \u001b[0mkwargs\u001b[0m \u001b[0;34m=\u001b[0m \u001b[0;34m{\u001b[0m\u001b[0;34m\"raise_missing\"\u001b[0m\u001b[0;34m:\u001b[0m \u001b[0;32mTrue\u001b[0m \u001b[0;32mif\u001b[0m \u001b[0mis_setter\u001b[0m \u001b[0;32melse\u001b[0m \u001b[0mraise_missing\u001b[0m\u001b[0;34m}\u001b[0m\u001b[0;34m\u001b[0m\u001b[0;34m\u001b[0m\u001b[0m\n\u001b[0;32m-> 1271\u001b[0;31m                 \u001b[0;32mreturn\u001b[0m \u001b[0mself\u001b[0m\u001b[0;34m.\u001b[0m\u001b[0m_get_listlike_indexer\u001b[0m\u001b[0;34m(\u001b[0m\u001b[0mobj\u001b[0m\u001b[0;34m,\u001b[0m \u001b[0maxis\u001b[0m\u001b[0;34m,\u001b[0m \u001b[0;34m**\u001b[0m\u001b[0mkwargs\u001b[0m\u001b[0;34m)\u001b[0m\u001b[0;34m[\u001b[0m\u001b[0;36m1\u001b[0m\u001b[0;34m]\u001b[0m\u001b[0;34m\u001b[0m\u001b[0;34m\u001b[0m\u001b[0m\n\u001b[0m\u001b[1;32m   1272\u001b[0m         \u001b[0;32melse\u001b[0m\u001b[0;34m:\u001b[0m\u001b[0;34m\u001b[0m\u001b[0;34m\u001b[0m\u001b[0m\n\u001b[1;32m   1273\u001b[0m             \u001b[0;32mtry\u001b[0m\u001b[0;34m:\u001b[0m\u001b[0;34m\u001b[0m\u001b[0;34m\u001b[0m\u001b[0m\n",
      "\u001b[0;32m/opt/conda/lib/python3.7/site-packages/pandas/core/indexing.py\u001b[0m in \u001b[0;36m_get_listlike_indexer\u001b[0;34m(self, key, axis, raise_missing)\u001b[0m\n\u001b[1;32m   1076\u001b[0m \u001b[0;34m\u001b[0m\u001b[0m\n\u001b[1;32m   1077\u001b[0m         self._validate_read_indexer(\n\u001b[0;32m-> 1078\u001b[0;31m             \u001b[0mkeyarr\u001b[0m\u001b[0;34m,\u001b[0m \u001b[0mindexer\u001b[0m\u001b[0;34m,\u001b[0m \u001b[0mo\u001b[0m\u001b[0;34m.\u001b[0m\u001b[0m_get_axis_number\u001b[0m\u001b[0;34m(\u001b[0m\u001b[0maxis\u001b[0m\u001b[0;34m)\u001b[0m\u001b[0;34m,\u001b[0m \u001b[0mraise_missing\u001b[0m\u001b[0;34m=\u001b[0m\u001b[0mraise_missing\u001b[0m\u001b[0;34m\u001b[0m\u001b[0;34m\u001b[0m\u001b[0m\n\u001b[0m\u001b[1;32m   1079\u001b[0m         )\n\u001b[1;32m   1080\u001b[0m         \u001b[0;32mreturn\u001b[0m \u001b[0mkeyarr\u001b[0m\u001b[0;34m,\u001b[0m \u001b[0mindexer\u001b[0m\u001b[0;34m\u001b[0m\u001b[0;34m\u001b[0m\u001b[0m\n",
      "\u001b[0;32m/opt/conda/lib/python3.7/site-packages/pandas/core/indexing.py\u001b[0m in \u001b[0;36m_validate_read_indexer\u001b[0;34m(self, key, indexer, axis, raise_missing)\u001b[0m\n\u001b[1;32m   1161\u001b[0m                 raise KeyError(\n\u001b[1;32m   1162\u001b[0m                     \"None of [{key}] are in the [{axis}]\".format(\n\u001b[0;32m-> 1163\u001b[0;31m                         \u001b[0mkey\u001b[0m\u001b[0;34m=\u001b[0m\u001b[0mkey\u001b[0m\u001b[0;34m,\u001b[0m \u001b[0maxis\u001b[0m\u001b[0;34m=\u001b[0m\u001b[0mself\u001b[0m\u001b[0;34m.\u001b[0m\u001b[0mobj\u001b[0m\u001b[0;34m.\u001b[0m\u001b[0m_get_axis_name\u001b[0m\u001b[0;34m(\u001b[0m\u001b[0maxis\u001b[0m\u001b[0;34m)\u001b[0m\u001b[0;34m\u001b[0m\u001b[0;34m\u001b[0m\u001b[0m\n\u001b[0m\u001b[1;32m   1164\u001b[0m                     )\n\u001b[1;32m   1165\u001b[0m                 )\n",
      "\u001b[0;31mKeyError\u001b[0m: \"None of [Index(['race', 'gender', 'age', 'medical_specialty', 'max_glu_serum',\\n       'A1Cresult', 'metformin', 'pioglitazone', 'troglitazone', 'tolazamide',\\n       'insulin', 'metformin-pioglitazone', 'diag_1_group', 'diag_2_group',\\n       'diag_3_group'],\\n      dtype='object')] are in the [columns]\""
     ]
    }
   ],
   "source": [
    "testscores = []\n",
    "fbetascores=[]\n",
    "\n",
    "for i in range(1,5):\n",
    "    grid, f1_scores,test_scores, best_alpha,fbeta_score= ML_pipeline_kfold_l1(X,y,42*i,5)\n",
    "    testscores.append(test_scores)\n",
    "    fbetascores.append(fbeta_score)\n",
    "    print(\"The best alpha of the {}th time:\".format(i), best_alpha)\n",
    "print(pd.DataFrame(fbetascores))\n",
    "print('test score:',np.around(np.mean(testscores),2), '+/-', np.around(np.std(testscores),2))\n",
    "#print('f1 score:',np.around(np.mean(fbetascores),2), '+/-', np.around(np.std(fbetascores),2))"
   ]
  },
  {
   "cell_type": "code",
   "execution_count": 51,
   "metadata": {},
   "outputs": [
    {
     "data": {
      "text/plain": [
       "['              precision    recall  f1-score   support\\n\\n           0       0.91      0.99      0.95       801\\n           1       0.17      0.01      0.02        77\\n\\n    accuracy                           0.91       878\\n   macro avg       0.54      0.50      0.49       878\\nweighted avg       0.85      0.91      0.87       878\\n',\n",
       " '              precision    recall  f1-score   support\\n\\n           0       0.91      1.00      0.95       801\\n           1       0.33      0.01      0.03        77\\n\\n    accuracy                           0.91       878\\n   macro avg       0.62      0.51      0.49       878\\nweighted avg       0.86      0.91      0.87       878\\n',\n",
       " '              precision    recall  f1-score   support\\n\\n           0       0.91      1.00      0.95       801\\n           1       0.00      0.00      0.00        77\\n\\n    accuracy                           0.91       878\\n   macro avg       0.46      0.50      0.48       878\\nweighted avg       0.83      0.91      0.87       878\\n',\n",
       " '              precision    recall  f1-score   support\\n\\n           0       0.91      1.00      0.95       801\\n           1       0.00      0.00      0.00        77\\n\\n    accuracy                           0.91       878\\n   macro avg       0.46      0.50      0.48       878\\nweighted avg       0.83      0.91      0.87       878\\n']"
      ]
     },
     "execution_count": 51,
     "metadata": {},
     "output_type": "execute_result"
    }
   ],
   "source": [
    "fbetascores"
   ]
  },
  {
   "cell_type": "code",
   "execution_count": null,
   "metadata": {},
   "outputs": [],
   "source": [
    "# print the ROC curve"
   ]
  },
  {
   "cell_type": "code",
   "execution_count": 7,
   "metadata": {},
   "outputs": [],
   "source": [
    "target = ['readmitted']\n",
    "num_ftrs =['time_in_hospital','num_lab_procedures','num_procedures','num_medications','number_outpatient','number_emergency','number_inpatient','number_diagnoses']\n",
    "ohe_ftrs = ['race','gender','age','medical_specialty','max_glu_serum','A1Cresult','metformin', 'repaglinide', 'nateglinide',\n",
    "       'chlorpropamide', 'glimepiride', 'acetohexamide', 'glipizide',\n",
    "       'glyburide', 'tolbutamide', 'pioglitazone', 'rosiglitazone', 'acarbose',\n",
    "       'miglitol', 'troglitazone', 'tolazamide', 'insulin',\n",
    "       'glyburide-metformin', 'glipizide-metformin',\n",
    "       'glimepiride-pioglitazone', 'metformin-rosiglitazone',\n",
    "       'metformin-pioglitazone','diag_1_group','diag_2_group','diag_3_group']\n",
    "bin_ord_ftrs = ['change', 'diabetesMed','admission_type_id','discharge_disposition_id', 'admission_source_id']\n",
    "X_onehot=X[ohe_ftrs].copy()\n",
    "ohe.fit(X_onehot)\n",
    "column_name =ohe.get_feature_names(ohe_ftrs)\n",
    "X_onehot=ohe.transform(X_onehot)\n",
    "X_onehot=pd.DataFrame(X_onehot, columns = column_name)\n",
    "\n",
    "X_std=X[num_ftrs].copy()\n",
    "X_std= sscaler.fit_transform(X_std)\n",
    "X_std = pd.DataFrame(X_std, columns = num_ftrs)\n",
    "X_std = X_std[num_ftrs]\n",
    "# from sklearn import preprocessing\n",
    "# lbl = preprocessing.LabelEncoder()\n",
    "# X[bin_ord_ftrs] = lbl.fit_transform(X[bin_ord_ftrs].astype(int))\n",
    "from sklearn.preprocessing import LabelEncoder\n",
    "for i in (bin_ord_ftrs):\n",
    "    \n",
    "    x_le=X[i].copy()\n",
    "    le = LabelEncoder()\n",
    "    x_le=le.fit_transform(x_le)\n",
    "    x_le = pd.DataFrame(x_le, columns = [i])\n",
    "    X[i] = x_le[i]\n",
    "\n",
    "\n",
    "stack = pd.concat([X_onehot,X_std], axis=1)\n",
    "X = pd.concat([stack, X[bin_ord_ftrs]], axis=1)\n",
    "regex = re.compile(r\"\\[|\\]|<\", re.IGNORECASE)\n",
    "X.columns = [regex.sub(\"_\", col) if any(x in str(col) for x in set(('[', ']', '<'))) else col for col in X.columns.values]"
   ]
  },
  {
   "cell_type": "code",
   "execution_count": 29,
   "metadata": {},
   "outputs": [
    {
     "data": {
      "image/png": "[encoded data removed]",
      "text/plain": [
       "<Figure size 432x288 with 1 Axes>"
      ]
     },
     "metadata": {
      "needs_background": "light"
     },
     "output_type": "display_data"
    }
   ],
   "source": [
    "x_train_lr, x_test_lr, y_train_lr, y_test_lr = train_test_split(X, y,test_size=0.2, random_state=0)\n",
    "from sklearn.linear_model import LogisticRegression\n",
    "LR_up = LogisticRegression(class_weight='balanced',)\n",
    "LR_up.fit(x_train_lr, y_train_lr)\n",
    "y_predict_up = LR_up.predict(x_test_lr)\n",
    "LR_up.set_params(C=1e-05,penalty='l1')\n",
    "y_probs_lr = pd.DataFrame(LR_up.predict_proba(x_test_lr))[1]\n",
    "fpr_lr, tpr_lr, thresholds_lr = roc_curve(y_test_lr, y_probs_lr)\n",
    "auc_lr = roc_auc_score(y_test_lr, y_probs_lr)\n",
    "plt.figure()\n",
    "lw = 2\n",
    "plt.plot(fpr_lr, tpr_lr, color='darkorange', lw=lw, label='ROC curve (area = %0.2f)' % auc_lr)\n",
    "plt.plot([0, 1], [0, 1], color='navy', lw=lw, linestyle='--')\n",
    "plt.xlim([0.0, 1.0])\n",
    "plt.ylim([0.0, 1.05])\n",
    "plt.xlabel('False Positive Rate')\n",
    "plt.ylabel('True Positive Rate')\n",
    "plt.title('Receiver operating characteristic example')\n",
    "plt.legend(loc=\"lower right\")\n",
    "plt.show()"
   ]
  },
  {
   "cell_type": "markdown",
   "metadata": {},
   "source": [
    "Random forest "
   ]
  },
  {
   "cell_type": "code",
   "execution_count": 15,
   "metadata": {},
   "outputs": [
    {
     "data": {
      "text/plain": [
       "GridSearchCV(cv=5, error_score=nan,\n",
       "             estimator=RandomForestClassifier(bootstrap=True, ccp_alpha=0.0,\n",
       "                                              class_weight=None,\n",
       "                                              criterion='gini', max_depth=None,\n",
       "                                              max_features='auto',\n",
       "                                              max_leaf_nodes=None,\n",
       "                                              max_samples=None,\n",
       "                                              min_impurity_decrease=0.0,\n",
       "                                              min_impurity_split=None,\n",
       "                                              min_samples_leaf=1,\n",
       "                                              min_samples_split=2,\n",
       "                                              min_weight_fraction_leaf=0.0,\n",
       "                                              n_estimators=100, n_jobs=None,\n",
       "                                              oob_score=False,\n",
       "                                              random_state=None, verbose=0,\n",
       "                                              warm_start=False),\n",
       "             iid='deprecated', n_jobs=None,\n",
       "             param_grid=[{'max_depth': (30, 40),\n",
       "                          'min_samples_leaf': [1, 2, 3, 4, 5],\n",
       "                          'min_samples_split': [2, 3],\n",
       "                          'n_estimators': [300, 400, 500],\n",
       "                          'random_state': [42]}],\n",
       "             pre_dispatch='2*n_jobs', refit=True, return_train_score=False,\n",
       "             scoring='roc_auc', verbose=0)"
      ]
     },
     "execution_count": 15,
     "metadata": {},
     "output_type": "execute_result"
    }
   ],
   "source": [
    "x_train_lr, x_test_lr, y_train_lr, y_test_lr = train_test_split(X, y,test_size=0.2, random_state=0)\n",
    "model=ensemble.RandomForestClassifier()\n",
    "grid_para_forest = [{\n",
    "    \"n_estimators\": [300,400,500],\n",
    "    \"max_depth\":(30,40),\n",
    "    \"min_samples_leaf\":[1,2,3,4,5],\n",
    "    \"min_samples_split\":[2,3],\n",
    "    \"random_state\": [42]}]\n",
    "grid_search_forest = GridSearchCV(model, grid_para_forest, cv=5,scoring='roc_auc')\n",
    "grid_search_forest.fit(x_train_lr, y_train_lr)\n"
   ]
  },
  {
   "cell_type": "code",
   "execution_count": 17,
   "metadata": {},
   "outputs": [],
   "source": [
    "bestparam= grid_search_forest.best_params_\n",
    "bestscore= grid_search_forest.best_score_\n",
    "model_1 = ensemble.RandomForestClassifier(**bestparam)\n",
    "model_1.fit(x_train_lr,y_train_lr)\n",
    "train_score=model_1.score(x_train_lr,y_train_lr)\n",
    "test_score=model_1.score(x_test_lr, y_test_lr)"
   ]
  },
  {
   "cell_type": "code",
   "execution_count": 28,
   "metadata": {},
   "outputs": [
    {
     "data": {
      "text/plain": [
       "(array([0.92482916, 0.        ]),\n",
       " array([1., 0.]),\n",
       " array([0.96094675, 0.        ]),\n",
       " array([812,  66]))"
      ]
     },
     "execution_count": 28,
     "metadata": {},
     "output_type": "execute_result"
    }
   ],
   "source": [
    "y_pr_rf=model_1.predict(x_test_lr)\n",
    "precision_recall_fscore_support(y_test_lr,y_pr_rf)\n",
    "# Output is:\n",
    "# [Precision of class 0, Precision of class 1]\n",
    "# [Recall of class 0   , Recall of class 1]\n",
    "# [F1 Score of class 0 , F1 Score of class 1]\n",
    "# [Instances of class 0, Instances of class 1]"
   ]
  },
  {
   "cell_type": "code",
   "execution_count": 38,
   "metadata": {},
   "outputs": [
    {
     "data": {
      "text/plain": [
       "<Figure size 720x1080 with 0 Axes>"
      ]
     },
     "execution_count": 38,
     "metadata": {},
     "output_type": "execute_result"
    },
    {
     "data": {
      "image/png": "[encoded data removed]",
      "text/plain": [
       "<Figure size 432x288 with 1 Axes>"
      ]
     },
     "metadata": {
      "needs_background": "light"
     },
     "output_type": "display_data"
    },
    {
     "data": {
      "text/plain": [
       "<Figure size 720x1080 with 0 Axes>"
      ]
     },
     "metadata": {},
     "output_type": "display_data"
    }
   ],
   "source": [
    "sorted_importance_rf = sorted(zip(X.columns, model_1.feature_importances_), key=lambda t:t[1], reverse=True)\n",
    "plt.barh([x[0] for x in sorted_importance_rf[:20]][::-1],[x[1] for x in sorted_importance_rf[:20]][::-1])\n",
    "plt.title('RF Top 10 Feature Importance', fontsize=18)\n",
    "plt.figure(figsize=(10,15))"
   ]
  },
  {
   "cell_type": "code",
   "execution_count": 37,
   "metadata": {},
   "outputs": [
    {
     "data": {
      "image/png": "[encoded data removed]",
      "text/plain": [
       "<Figure size 432x288 with 1 Axes>"
      ]
     },
     "metadata": {
      "needs_background": "light"
     },
     "output_type": "display_data"
    }
   ],
   "source": [
    "y_probs_rf = pd.DataFrame(model_1.predict_proba(x_test_lr))[1]\n",
    "fpr_rf, tpr_rf, thresholds_rf = roc_curve(y_test_lr, y_probs_rf)\n",
    "auc_rf = roc_auc_score(y_test_lr, y_probs_rf)\n",
    "plt.figure()\n",
    "lw = 2\n",
    "plt.plot(fpr_rf, tpr_rf, color='blue', lw=lw, label='ROC curve (area = %0.2f)' % auc_rf)\n",
    "plt.plot([0, 1], [0, 1], color='navy', lw=lw, linestyle='--')\n",
    "plt.xlim([0.0, 1.0])\n",
    "plt.ylim([0.0, 1.05])\n",
    "plt.xlabel('False Positive Rate')\n",
    "plt.ylabel('True Positive Rate')\n",
    "plt.title('Receiver operating characteristic example')\n",
    "plt.legend(loc=\"lower right\")\n",
    "plt.show()"
   ]
  },
  {
   "cell_type": "markdown",
   "metadata": {},
   "source": [
    "xgboost "
   ]
  },
  {
   "cell_type": "code",
   "execution_count": 8,
   "metadata": {},
   "outputs": [],
   "source": [
    "x_train_lr, x_test_lr, y_train_lr, y_test_lr = train_test_split(X, y,test_size=0.2, random_state=0)"
   ]
  },
  {
   "cell_type": "code",
   "execution_count": 11,
   "metadata": {},
   "outputs": [
    {
     "ename": "AttributeError",
     "evalue": "'XGBClassifier' object has no attribute 'XGBClassifier'",
     "output_type": "error",
     "traceback": [
      "\u001b[0;31m---------------------------------------------------------------------------\u001b[0m",
      "\u001b[0;31mAttributeError\u001b[0m                            Traceback (most recent call last)",
      "\u001b[0;32m<ipython-input-11-965be772eb8e>\u001b[0m in \u001b[0;36m<module>\u001b[0;34m\u001b[0m\n\u001b[0;32m----> 1\u001b[0;31m \u001b[0mxgb\u001b[0m\u001b[0;34m=\u001b[0m\u001b[0mxgb\u001b[0m\u001b[0;34m.\u001b[0m\u001b[0mXGBClassifier\u001b[0m\u001b[0;34m(\u001b[0m\u001b[0;34m)\u001b[0m\u001b[0;34m\u001b[0m\u001b[0;34m\u001b[0m\u001b[0m\n\u001b[0m\u001b[1;32m      2\u001b[0m grid_para_xgboost =[{\n\u001b[1;32m      3\u001b[0m     \u001b[0;34m\"eta\"\u001b[0m\u001b[0;34m:\u001b[0m \u001b[0;34m(\u001b[0m\u001b[0;36m0.001\u001b[0m\u001b[0;34m,\u001b[0m\u001b[0;36m0.4\u001b[0m\u001b[0;34m)\u001b[0m\u001b[0;34m,\u001b[0m\u001b[0;34m\u001b[0m\u001b[0;34m\u001b[0m\u001b[0m\n\u001b[1;32m      4\u001b[0m     \u001b[0;34m\"gamma\"\u001b[0m\u001b[0;34m:\u001b[0m\u001b[0;34m(\u001b[0m\u001b[0;36m0\u001b[0m\u001b[0;34m,\u001b[0m\u001b[0;36m20\u001b[0m\u001b[0;34m)\u001b[0m\u001b[0;34m,\u001b[0m\u001b[0;34m\u001b[0m\u001b[0;34m\u001b[0m\u001b[0m\n\u001b[1;32m      5\u001b[0m     \"max_depth\":(2,20)}]\n",
      "\u001b[0;31mAttributeError\u001b[0m: 'XGBClassifier' object has no attribute 'XGBClassifier'"
     ]
    }
   ],
   "source": [
    "xgb=xgb.XGBClassifier()\n",
    "grid_para_xgboost =[{\n",
    "    \"eta\": (0.001,0.4),\n",
    "    \"gamma\":(0,20),\n",
    "    \"max_depth\":(2,20)}]\n",
    "grid_search_xgboost = GridSearchCV(xgb, grid_para_xgboost, cv=5,scoring='roc_auc')\n",
    "grid_search_xgboost.fit(x_train_lr, y_train_lr)\n"
   ]
  },
  {
   "cell_type": "code",
   "execution_count": 10,
   "metadata": {},
   "outputs": [
    {
     "data": {
      "text/plain": [
       "0.9259681093394078"
      ]
     },
     "execution_count": 10,
     "metadata": {},
     "output_type": "execute_result"
    }
   ],
   "source": [
    "#bestparam= grid_search_xgboost.best_params_\n",
    "#bestscore= grid_search_xgboost.best_score_\n",
    "xgboost_1 = xgb.XGBClassifier(eta=0.001,\n",
    "             gamma=0,\n",
    "             max_depth=2, \n",
    "             n_jobs=-1, \n",
    "             random_state=42,   \n",
    "             class_weight=\"balanced\")\n",
    "xgboost_1.fit(x_train_lr,y_train_lr)\n",
    "xgboost_1.score(x_train_lr,y_train_lr)\n",
    "xgboost_1.score(x_test_lr, y_test_lr)"
   ]
  },
  {
   "cell_type": "code",
   "execution_count": 29,
   "metadata": {},
   "outputs": [
    {
     "data": {
      "text/plain": [
       "(array([0.92588369, 1.        ]),\n",
       " array([1.        , 0.01515152]),\n",
       " array([0.96151569, 0.02985075]),\n",
       " array([812,  66]))"
      ]
     },
     "execution_count": 29,
     "metadata": {},
     "output_type": "execute_result"
    }
   ],
   "source": [
    "y_pr_xg=xgboost_1.predict(x_test_lr)\n",
    "precision_recall_fscore_support(y_test_lr,y_pr_xg)"
   ]
  },
  {
   "cell_type": "code",
   "execution_count": 48,
   "metadata": {},
   "outputs": [
    {
     "data": {
      "text/plain": [
       "Text(0.5, 1.0, 'XGB Top 10 Feature Importance')"
      ]
     },
     "execution_count": 48,
     "metadata": {},
     "output_type": "execute_result"
    },
    {
     "data": {
      "image/png": "[encoded data removed]",
      "text/plain": [
       "<Figure size 576x432 with 1 Axes>"
      ]
     },
     "metadata": {
      "needs_background": "light"
     },
     "output_type": "display_data"
    }
   ],
   "source": [
    "plt.figure(figsize=(8,6))\n",
    "sorted_importance_xgb = sorted(zip(X.columns, xgboost_1.feature_importances_), key=lambda t:t[1], reverse=True)\n",
    "plt.barh([x[0] for x in sorted_importance_xgb[:10]][::-1],[x[1] for x in sorted_importance_xgb[:10]][::-1])\n",
    "plt.title('XGB Top 10 Feature Importance', fontsize=20)\n"
   ]
  },
  {
   "cell_type": "code",
   "execution_count": 13,
   "metadata": {},
   "outputs": [
    {
     "data": {
      "image/png": "[encoded data removed]",
      "text/plain": [
       "<Figure size 432x288 with 1 Axes>"
      ]
     },
     "metadata": {
      "needs_background": "light"
     },
     "output_type": "display_data"
    }
   ],
   "source": [
    "y_probs_xgb = pd.DataFrame(xgboost_1.predict_proba(x_test_lr))[1]\n",
    "fpr_xgb, tpr_xgb, thresholds_xgb = roc_curve(y_test_lr, y_probs_xgb)\n",
    "auc_xgb = roc_auc_score(y_test_lr, y_probs_xgb)\n",
    "plt.figure()\n",
    "lw = 2\n",
    "plt.plot(fpr_xgb, tpr_xgb, color='darkorange', lw=lw, label='ROC curve (area = %0.2f)' % auc_xgb)\n",
    "plt.plot([0, 1], [0, 1], color='navy', lw=lw, linestyle='--')\n",
    "plt.xlim([0.0, 1.0])\n",
    "plt.ylim([0.0, 1.05])\n",
    "plt.xlabel('False Positive Rate')\n",
    "plt.ylabel('True Positive Rate')\n",
    "#plt.title('Receiver operating characteristic example')\n",
    "plt.legend(loc=\"lower right\")\n",
    "plt.show()\n"
   ]
  },
  {
   "cell_type": "code",
   "execution_count": null,
   "metadata": {},
   "outputs": [],
   "source": []
  },
  {
   "cell_type": "markdown",
   "metadata": {},
   "source": [
    "Use new data set with feature engineering"
   ]
  },
  {
   "cell_type": "code",
   "execution_count": 43,
   "metadata": {},
   "outputs": [],
   "source": [
    "def ML_pipeline_kfold_l1(X,y,random_state,n_folds):\n",
    "    \n",
    "    ## Split your data in a stratified manner, 5 stratified folds.\n",
    "    X_other, X_test, y_other, y_test = train_test_split(X, y, test_size=0.2, random_state = random_state, stratify = y)\n",
    "    CV_scores = []\n",
    "    test_scores = []\n",
    "    kf = StratifiedKFold(n_splits=n_folds,shuffle=True,random_state=random_state)\n",
    "    \n",
    "    # You'll need to loop through the 5 options the CV fold can be selected\n",
    "    for train_index, CV_index in kf.split(X_other,y_other):\n",
    "        X_train, X_CV = X_other.iloc[train_index], X_other.iloc[CV_index]\n",
    "        y_train, y_CV = y_other.iloc[train_index], y_other.iloc[CV_index]\n",
    "        \n",
    "        target = ['readmitted']\n",
    "        num_ftrs =['time_in_hospital','num_lab_procedures','num_procedures','num_medications','number_outpatient','number_emergency','number_inpatient','number_diagnoses']\n",
    "        ohe_ftrs = ['race','gender','age','medical_specialty','max_glu_serum','A1Cresult','metformin', \n",
    "        'pioglitazone',\n",
    "       'troglitazone', 'tolazamide', 'insulin',\n",
    "       'metformin-pioglitazone','diag_1_group','diag_2_group','diag_3_group']\n",
    "        bin_ord_ftrs = ['change', 'diabetesMed','admission_type_id','discharge_disposition_id', 'admission_source_id']\n",
    "        \n",
    "        ## Preprocess the data\n",
    "        ## We don't want to apply one hot to binary var\n",
    "        X_train_num = sscaler.fit_transform(X_train[num_ftrs])\n",
    "        X_c_num = sscaler.transform(X_CV[num_ftrs])\n",
    "        X_t_num = sscaler.transform(X_test[num_ftrs])\n",
    "        \n",
    "        X_train_cat = ohe.fit_transform(X_train[ohe_ftrs])\n",
    "        X_c_cat = ohe.transform(X_CV[ohe_ftrs])\n",
    "        X_t_cat = ohe.transform(X_test[ohe_ftrs])\n",
    "\n",
    "        X_train = np.concatenate((X_train_cat,X_train_num, np.array(X_train[bin_ord_ftrs])),axis=1)\n",
    "        X_c = np.concatenate((X_c_cat,X_c_num, np.array(X_CV[bin_ord_ftrs])),axis=1)\n",
    "        X_t = np.concatenate((X_t_cat,X_t_num, np.array(X_test[bin_ord_ftrs])),axis=1)\n",
    "        \n",
    "       \n",
    "        # tune lasso hyper-parameter, alpha\n",
    "        alpha = np.logspace(-5,5,num = 5)\n",
    "        train_score = []\n",
    "        CV_score = []\n",
    "        regs = []\n",
    "        f1_scores=[]\n",
    "        for a in alpha:\n",
    "            reg = LogisticRegression(penalty='l1',C = 1/a, multi_class = 'auto', \n",
    "                                     solver='saga', max_iter = 1e4)\n",
    "            reg.fit(X_train,y_train)\n",
    "            train_score.append(f1_score(y_train,reg.predict(X_train)))\n",
    "            CV_score.append(f1_score(y_CV,reg.predict(X_c)))\n",
    "            regs.append(reg)\n",
    "        # find the best alpha in this fold\n",
    "        best_alpha = alpha[np.argmax(CV_score)]\n",
    "        # grab the best model\n",
    "        reg = regs[np.argmax(CV_score)]\n",
    "        CV_scores.append(np.max(CV_score))\n",
    "        # calculate test score using thee best model\n",
    "        test_scores.append(accuracy_score(y_test,reg.predict(X_t)))\n",
    "        f1_scores.append(f1_score(y_test,reg.predict(X_t)))\n",
    "        fbeta_score=classification_report(y_test, reg.predict(X_t))\n",
    "    return reg,f1_scores,test_scores,best_alpha,fbeta_score"
   ]
  },
  {
   "cell_type": "code",
   "execution_count": 44,
   "metadata": {},
   "outputs": [
    {
     "name": "stdout",
     "output_type": "stream",
     "text": [
      "The best alpha of the 1th time: 1.0\n",
      "The best alpha of the 2th time: 1e-05\n",
      "The best alpha of the 3th time: 1e-05\n",
      "The best alpha of the 4th time: 1e-05\n",
      "                                                   0\n",
      "0                precision    recall  f1-score   ...\n",
      "1                precision    recall  f1-score   ...\n",
      "2                precision    recall  f1-score   ...\n",
      "3                precision    recall  f1-score   ...\n",
      "test score: 0.91 +/- 0.0\n"
     ]
    }
   ],
   "source": [
    "testscores = []\n",
    "fbetascores=[]\n",
    "\n",
    "for i in range(1,5):\n",
    "    grid, f1_scores,test_scores, best_alpha,fbeta_score= ML_pipeline_kfold_l1(X,y,42*i,5)\n",
    "    testscores.append(test_scores)\n",
    "    fbetascores.append(fbeta_score)\n",
    "    print(\"The best alpha of the {}th time:\".format(i), best_alpha)\n",
    "print(pd.DataFrame(fbetascores))\n",
    "print('test score:',np.around(np.mean(testscores),2), '+/-', np.around(np.std(testscores),2))\n",
    "#print('f1 score:',np.around(np.mean(fbetascores),2), '+/-', np.around(np.std(fbetascores),2))"
   ]
  },
  {
   "cell_type": "code",
   "execution_count": null,
   "metadata": {},
   "outputs": [],
   "source": []
  }
 ],
 "metadata": {
  "kernelspec": {
   "display_name": "Python 3",
   "language": "python",
   "name": "python3"
  },
  "language_info": {
   "codemirror_mode": {
    "name": "ipython",
    "version": 3
   },
   "file_extension": ".py",
   "mimetype": "text/x-python",
   "name": "python",
   "nbconvert_exporter": "python",
   "pygments_lexer": "ipython3",
   "version": "3.7.3"
  }
 },
 "nbformat": 4,
 "nbformat_minor": 4
}
